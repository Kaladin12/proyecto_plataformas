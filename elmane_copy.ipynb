{
  "cells": [
    {
      "cell_type": "code",
      "execution_count": null,
      "metadata": {
        "id": "hlLxQf-V1F6b"
      },
      "outputs": [],
      "source": [
        "import pandas as pd\n",
        "import numpy as np\n",
        "import os\n",
        "import matplotlib.pyplot as plt"
      ]
    },
    {
      "cell_type": "code",
      "execution_count": null,
      "metadata": {
        "id": "OxllcUrS1GCV"
      },
      "outputs": [],
      "source": [
        "PATH =  r\"D:\\Documents\\datasets\\datasets\"\n",
        "FILES = os.listdir(PATH)"
      ]
    },
    {
      "cell_type": "code",
      "execution_count": null,
      "metadata": {
        "id": "jwYwghNx1ezX"
      },
      "outputs": [],
      "source": [
        "datasets = {\n",
        "    name[:-4] : pd.read_csv(PATH+r'\\\\'+name) for name in FILES\n",
        "}"
      ]
    },
    {
      "cell_type": "code",
      "execution_count": null,
      "metadata": {
        "colab": {
          "base_uri": "https://localhost:8080/"
        },
        "id": "P0r-rkfp10OJ",
        "outputId": "4cc8c48d-c303-4f58-ec62-91b6e13296ff"
      },
      "outputs": [],
      "source": [
        "datasets.keys()"
      ]
    },
    {
      "cell_type": "code",
      "execution_count": null,
      "metadata": {
        "colab": {
          "base_uri": "https://localhost:8080/"
        },
        "id": "TwSOJvo82B9d",
        "outputId": "7388e0f4-45b1-4c91-aa17-2e3aec055ee5"
      },
      "outputs": [],
      "source": [
        "base  = datasets['urban_total']['Country Name']\n",
        "base = pd.DataFrame({'Country Name': base})\n",
        "for dataset in datasets:\n",
        "  if (dataset in ['urban_total', 'urban_percent']):\n",
        "    base = base[base['Country Name'].isin(datasets[dataset]['Country Name'])]\n",
        "print(base)\n"
      ]
    },
    {
      "cell_type": "code",
      "execution_count": null,
      "metadata": {},
      "outputs": [],
      "source": [
        "import plotly.express as px\n",
        "\n",
        "asian_countries = datasets['NaturalDisaster']['Country Name'].sort_values().unique()\n",
        "disaster_count = datasets['NaturalDisaster'].groupby(['Country Name']).count()['Year'].tolist()\n",
        "fig = px.choropleth(\n",
        "    locations=asian_countries,\n",
        "    locationmode='country names',\n",
        "    projection='mercator',\n",
        "    scope='asia',\n",
        "    color = disaster_count,\n",
        "    labels = {'color': 'Disaster Frecuency (1960-1919)'}\n",
        ")\n",
        "fig.show()\n"
      ]
    },
    {
      "cell_type": "markdown",
      "metadata": {},
      "source": []
    },
    {
      "cell_type": "code",
      "execution_count": null,
      "metadata": {},
      "outputs": [],
      "source": [
        "disaster_count = datasets['NaturalDisaster'].groupby(['Country Name']).count()['Year']\n",
        "print(disaster_count)"
      ]
    },
    {
      "cell_type": "code",
      "execution_count": null,
      "metadata": {},
      "outputs": [],
      "source": [
        "disaster_subtype_count = datasets['NaturalDisaster']['Disaster Subtype'].value_counts()\n",
        "eso = pd.DataFrame(disaster_subtype_count)\n",
        "disaster_subtype_count.plot.bar(x = eso.index, y = eso['Disaster Subtype'],  figsize=(15,5) )\n",
        "plt.title(\"Natural Disaster Subtype Frequency in Asia (1960-2019)\")\n"
      ]
    },
    {
      "cell_type": "code",
      "execution_count": null,
      "metadata": {},
      "outputs": [],
      "source": [
        "disasters = datasets[\"NaturalDisaster\"]\n",
        "subtypes = disasters[[\"Country Name\", \"Disaster Subtype\", 'Total Deaths']]\n",
        "resultado = subtypes.groupby(['Disaster Subtype', 'Country Name']).count()\n",
        "resultado.to_csv('out.csv')\n"
      ]
    },
    {
      "cell_type": "code",
      "execution_count": null,
      "metadata": {},
      "outputs": [],
      "source": [
        "resultado.loc['Tsunami']"
      ]
    },
    {
      "cell_type": "code",
      "execution_count": null,
      "metadata": {},
      "outputs": [],
      "source": [
        "resultado.loc['Riverine flood']"
      ]
    },
    {
      "cell_type": "code",
      "execution_count": null,
      "metadata": {},
      "outputs": [],
      "source": [
        "import pandas as pd\n",
        "import plotly.express as px\n",
        "import plotly.graph_objs as go"
      ]
    },
    {
      "cell_type": "code",
      "execution_count": null,
      "metadata": {},
      "outputs": [],
      "source": [
        "# Load data\n",
        "data = pd.read_csv(\"./datasets/population_data.csv\")\n",
        "\n",
        "# All united states data\n",
        "usa = data[data[\"Entity\"] == \"United States\"]\n",
        "\n",
        "# All china data\n",
        "chn = data[data[\"Entity\"] == \"China\"]"
      ]
    },
    {
      "cell_type": "code",
      "execution_count": null,
      "metadata": {},
      "outputs": [],
      "source": [
        "# Population tendency graph for United Sates\n",
        "x_axis = usa[\"Year\"]\n",
        "y_axis = usa[\"Population (historical estimates)\"]\n",
        "fig = px.line(x=x_axis, y=y_axis, title=\"Population Grouth Graph of USA (1800-2020)\")\n",
        "fig.update_xaxes(title=\"Year\")\n",
        "fig.update_yaxes(title=\"Population\")"
      ]
    },
    {
      "cell_type": "code",
      "execution_count": null,
      "metadata": {},
      "outputs": [],
      "source": [
        "# Population tendency graph for United Sates\n",
        "x_axis = chn[\"Year\"]\n",
        "y_axis = chn[\"Population (historical estimates)\"]\n",
        "fig = px.line(x=x_axis, y=y_axis, title=\"Population Grouth Graph of China (1800-2020)\")\n",
        "fig.update_xaxes(title=\"Year\")\n",
        "fig.update_yaxes(title=\"Population\")"
      ]
    },
    {
      "cell_type": "code",
      "execution_count": null,
      "metadata": {},
      "outputs": [],
      "source": [
        "trace1 = go.Scatter(\n",
        "    name = \"USA\",\n",
        "    x = list(usa[\"Year\"]),\n",
        "    y = list(usa[\"Population (historical estimates)\"])\n",
        ")\n",
        "\n",
        "trace2 = go.Scatter(\n",
        "    name = \"CHINA\",\n",
        "    x = list(chn[\"Year\"]),\n",
        "    y = list(chn[\"Population (historical estimates)\"])\n",
        ")\n",
        "\n",
        "layout = go.Layout(\n",
        "    title = \"Population Growth\",\n",
        "    yaxis = dict(title='Population'),\n",
        "    xaxis = dict(title = \"Year\")\n",
        "    )\n",
        "\n",
        "data = [trace1, trace2]\n",
        "fig = go.Figure(data=data, layout=layout)\n",
        "fig"
      ]
    },
    {
      "cell_type": "markdown",
      "metadata": {},
      "source": [
        "## Componente rural y urbano"
      ]
    },
    {
      "cell_type": "code",
      "execution_count": null,
      "metadata": {},
      "outputs": [],
      "source": [
        "population = pd.read_csv('./datasets/urban-vs-rural-majority.csv')\n"
      ]
    },
    {
      "cell_type": "markdown",
      "metadata": {},
      "source": [
        "## "
      ]
    }
  ],
  "metadata": {
    "colab": {
      "collapsed_sections": [],
      "name": "pseudoclase_de_fermin.ipynb",
      "provenance": []
    },
    "kernelspec": {
      "display_name": "Python 3",
      "name": "python3"
    },
    "language_info": {
      "codemirror_mode": {
        "name": "ipython",
        "version": 3
      },
      "file_extension": ".py",
      "mimetype": "text/x-python",
      "name": "python",
      "nbconvert_exporter": "python",
      "pygments_lexer": "ipython3",
      "version": "3.8.5"
    }
  },
  "nbformat": 4,
  "nbformat_minor": 0
}
